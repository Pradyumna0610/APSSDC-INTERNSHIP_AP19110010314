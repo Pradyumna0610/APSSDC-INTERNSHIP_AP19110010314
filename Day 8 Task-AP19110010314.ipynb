{
 "cells": [
  {
   "cell_type": "markdown",
   "id": "4c5e5699",
   "metadata": {},
   "source": [
    "#### Name: Challa Venkata Pradyumna\n",
    "#### Roll No: AP19110010314\n",
    "#### Branch: CSE\n",
    "#### Day 8 Task\n",
    "#### Q1) Create a function for finding the leap years within the given range"
   ]
  },
  {
   "cell_type": "code",
   "execution_count": 1,
   "id": "040f600f",
   "metadata": {},
   "outputs": [
    {
     "name": "stdout",
     "output_type": "stream",
     "text": [
      "Enter the starting year: 2001\n",
      "Enter the ending year: 2021\n",
      "Leap years between the range 2001 and 2021 are\n",
      "2004\n",
      "2008\n",
      "2012\n",
      "2016\n",
      "2020\n"
     ]
    }
   ],
   "source": [
    "def leap_year(x):\n",
    "    if (x%4==0 and x%100!=0 or x%400==0):\n",
    "        return True\n",
    "    else:\n",
    "        return False\n",
    "start = int(input(\"Enter the starting year: \"))\n",
    "end = int(input(\"Enter the ending year: \"))\n",
    "print(\"Leap years between the range\", start, \"and\", end, \"are\")\n",
    "for i in range(start, end):\n",
    "    if leap_year(i) == True:\n",
    "        print(i)"
   ]
  },
  {
   "cell_type": "markdown",
   "id": "2a056c67",
   "metadata": {},
   "source": [
    "#### Q2) Create a function for getting the armstrong numbers within the given range"
   ]
  },
  {
   "cell_type": "code",
   "execution_count": 2,
   "id": "576181a0",
   "metadata": {},
   "outputs": [
    {
     "name": "stdout",
     "output_type": "stream",
     "text": [
      "Enter the start number: 1\n",
      "Enter the final number: 400\n",
      "The Armstrong numbers from 1 to 400 are\n",
      "1\n",
      "2\n",
      "3\n",
      "4\n",
      "5\n",
      "6\n",
      "7\n",
      "8\n",
      "9\n",
      "153\n",
      "370\n",
      "371\n"
     ]
    }
   ],
   "source": [
    "def armstrong(x, y):\n",
    "    for i in range(x, y+1):\n",
    "        num = i\n",
    "        result = 0\n",
    "        n = len(str(i))\n",
    "        while(i != 0):\n",
    "            digit = i % 10\n",
    "            result = result + digit ** n\n",
    "            i = i//10\n",
    "        if num == result:\n",
    "            print(num)\n",
    "initial = int(input(\"Enter the start number: \"))\n",
    "final = int(input(\"Enter the final number: \"))\n",
    "print(\"The Armstrong numbers from\", initial, \"to\", final, \"are\")\n",
    "armstrong(initial, final)"
   ]
  },
  {
   "cell_type": "markdown",
   "id": "e27cd55d",
   "metadata": {},
   "source": [
    "#### Q3) Create a function for getting the prime numbers within the range"
   ]
  },
  {
   "cell_type": "code",
   "execution_count": 3,
   "id": "2bc721c7",
   "metadata": {},
   "outputs": [
    {
     "name": "stdout",
     "output_type": "stream",
     "text": [
      "Enter the start number: 1\n",
      "Enter the end number: 50\n",
      "Prime numbers between 1 and 50 are\n",
      "1\n",
      "2\n",
      "3\n",
      "5\n",
      "7\n",
      "11\n",
      "13\n",
      "17\n",
      "19\n",
      "23\n",
      "29\n",
      "31\n",
      "37\n",
      "41\n",
      "43\n",
      "47\n"
     ]
    }
   ],
   "source": [
    "def prime_number(x1, x2):\n",
    "    for number in range(x1, x2+1):\n",
    "        for i in range(2, number):\n",
    "            if number%i == 0:\n",
    "                break\n",
    "        else:\n",
    "            print(number)\n",
    "    \n",
    "start = int(input(\"Enter the start number: \"))\n",
    "end = int(input(\"Enter the end number: \"))\n",
    "print(\"Prime numbers between\", start, \"and\", end, \"are\")\n",
    "prime_number(start,end)"
   ]
  },
  {
   "cell_type": "markdown",
   "id": "0dfa2f3c",
   "metadata": {},
   "source": [
    "#### Q3) Create a function for finding the count of elements in a string. \"Srm university\""
   ]
  },
  {
   "cell_type": "code",
   "execution_count": 4,
   "id": "a95489f1",
   "metadata": {},
   "outputs": [
    {
     "name": "stdout",
     "output_type": "stream",
     "text": [
      "Enter the string:  Srm University\n"
     ]
    },
    {
     "data": {
      "text/plain": [
       "13"
      ]
     },
     "execution_count": 4,
     "metadata": {},
     "output_type": "execute_result"
    }
   ],
   "source": [
    "def count_elements():\n",
    "    x = str(input(\"Enter the string:  \"))\n",
    "    count = 0\n",
    "    for i in x:\n",
    "        if i.isalpha():\n",
    "            count += 1\n",
    "    return count\n",
    "count_elements()"
   ]
  }
 ],
 "metadata": {
  "kernelspec": {
   "display_name": "Python 3",
   "language": "python",
   "name": "python3"
  },
  "language_info": {
   "codemirror_mode": {
    "name": "ipython",
    "version": 3
   },
   "file_extension": ".py",
   "mimetype": "text/x-python",
   "name": "python",
   "nbconvert_exporter": "python",
   "pygments_lexer": "ipython3",
   "version": "3.8.8"
  }
 },
 "nbformat": 4,
 "nbformat_minor": 5
}
