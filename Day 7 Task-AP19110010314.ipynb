{
 "cells": [
  {
   "cell_type": "markdown",
   "id": "02a2231d",
   "metadata": {},
   "source": [
    "#### Name: Challa Venkata Pradyumna\n",
    "#### Roll No. : AP19110010314\n",
    "#### Branch: CSE\n",
    "#### Day 7 Task \n",
    "#### Q1) Write a pattern to display 4 digit numbers from list, \n",
    "#### list = [5481, 987654321, 453267, 1234, 675, 8797]"
   ]
  },
  {
   "cell_type": "code",
   "execution_count": 1,
   "id": "7f19db53",
   "metadata": {},
   "outputs": [
    {
     "name": "stdout",
     "output_type": "stream",
     "text": [
      "5841\n",
      "1234\n",
      "8797\n"
     ]
    }
   ],
   "source": [
    "import re\n",
    "list = ['5841', '987654321', '453267', '1234', '675', '8797']\n",
    "for i in list:\n",
    "    if re.findall('^[0-9]{4}$', i):\n",
    "        print(i)"
   ]
  },
  {
   "cell_type": "markdown",
   "id": "d329dec5",
   "metadata": {},
   "source": [
    "#### Q2) Validate a phone number using patterns. ph_list = [9876543210, 8123456789, 7890123456, 789654, 1234567890]"
   ]
  },
  {
   "cell_type": "code",
   "execution_count": 2,
   "id": "348c3aa3",
   "metadata": {},
   "outputs": [
    {
     "name": "stdout",
     "output_type": "stream",
     "text": [
      "9876543210\n",
      "8123456789\n",
      "7890123456\n"
     ]
    }
   ],
   "source": [
    "ph_list = ['9876543210', '8123456789', '7890123456', '789654', '1234567890']\n",
    "for i in ph_list:\n",
    "    if re.findall('[6-9]{1}[0-9]{9}$', i):\n",
    "        print(i)"
   ]
  }
 ],
 "metadata": {
  "kernelspec": {
   "display_name": "Python 3",
   "language": "python",
   "name": "python3"
  },
  "language_info": {
   "codemirror_mode": {
    "name": "ipython",
    "version": 3
   },
   "file_extension": ".py",
   "mimetype": "text/x-python",
   "name": "python",
   "nbconvert_exporter": "python",
   "pygments_lexer": "ipython3",
   "version": "3.8.8"
  }
 },
 "nbformat": 4,
 "nbformat_minor": 5
}
