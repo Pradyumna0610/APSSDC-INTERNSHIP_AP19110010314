{
 "cells": [
  {
   "cell_type": "markdown",
   "id": "e9566ec0",
   "metadata": {},
   "source": [
    "#### \n",
    "#### Name - Challa Venkata Pradyumna\n",
    "#### Id Number - AP19110010314\n",
    "#### Branch - CSE\n",
    "\n",
    "#### Day 6 tasks"
   ]
  },
  {
   "cell_type": "markdown",
   "id": "45c9b48c",
   "metadata": {},
   "source": [
    "#### Q1) Write a Python script to print a dictionary where the keys are numbers between 1 and 15 (both included) and the values are square of keys"
   ]
  },
  {
   "cell_type": "code",
   "execution_count": 1,
   "id": "1ebea532",
   "metadata": {},
   "outputs": [
    {
     "name": "stdout",
     "output_type": "stream",
     "text": [
      "{1: 1, 2: 4, 3: 9, 4: 16, 5: 25, 6: 36, 7: 49, 8: 64, 9: 81, 10: 100, 11: 121, 12: 144, 13: 169, 14: 196, 15: 225}\n"
     ]
    }
   ],
   "source": [
    "dict = {}\n",
    "for i in range(1,16):\n",
    "    dict[i] = i*i\n",
    "print(dict)"
   ]
  },
  {
   "cell_type": "markdown",
   "id": "f85cb895",
   "metadata": {},
   "source": [
    "#### Q2) Write a Python program to map two lists into a dictionary."
   ]
  },
  {
   "cell_type": "code",
   "execution_count": 5,
   "id": "cb8ba34b",
   "metadata": {},
   "outputs": [
    {
     "name": "stdout",
     "output_type": "stream",
     "text": [
      "Resultant dictionary is : {'Pradyumna': [1, 2, 3], 6: {'World', 'Hello'}, 2001: 'Minister'}\n"
     ]
    }
   ],
   "source": [
    "key1 = ['Pradyumna',6,2001]\n",
    "value1 = [[1,2,3],{'Hello','World'},'Minister',897812]\n",
    "res = {key1[i]: value1[i] for i in range(len(key1))}\n",
    "print (\"Resultant dictionary is : \" +  str(res))"
   ]
  },
  {
   "cell_type": "markdown",
   "id": "5081a5b1",
   "metadata": {},
   "source": [
    "#### Q3) Write a Python program to sort a list alphabetically in a dictionary\n",
    "####      input : {'n1': [2, 3, 1], 'n2': [5, 1, 2], 'n3': [3, 2, 4]}\n",
    "####      output : {'n1': [1, 2, 3], 'n2': [1, 2, 5], 'n3': [2, 3, 4]}"
   ]
  },
  {
   "cell_type": "code",
   "execution_count": 4,
   "id": "c29b51b6",
   "metadata": {},
   "outputs": [
    {
     "name": "stdout",
     "output_type": "stream",
     "text": [
      "{'n1': [1, 2, 3], 'n2': [1, 2, 5], 'n3': [2, 3, 4]}\n"
     ]
    }
   ],
   "source": [
    "num = {'n1': [2, 3, 1], 'n2': [5, 1, 2], 'n3': [3, 2, 4]}\n",
    "sorted_dict = {k: sorted(v) for k, v in num.items()}\n",
    "print(sorted_dict)"
   ]
  }
 ],
 "metadata": {
  "kernelspec": {
   "display_name": "Python 3",
   "language": "python",
   "name": "python3"
  },
  "language_info": {
   "codemirror_mode": {
    "name": "ipython",
    "version": 3
   },
   "file_extension": ".py",
   "mimetype": "text/x-python",
   "name": "python",
   "nbconvert_exporter": "python",
   "pygments_lexer": "ipython3",
   "version": "3.8.8"
  }
 },
 "nbformat": 4,
 "nbformat_minor": 5
}
