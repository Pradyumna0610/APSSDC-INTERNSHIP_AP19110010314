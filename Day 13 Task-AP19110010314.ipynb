{
 "cells": [
  {
   "cell_type": "markdown",
   "id": "ea9f256c",
   "metadata": {},
   "source": [
    "#### Name - Challa Venkata Pradyumna\n",
    "#### Id Number - AP19110010314\n",
    "#### Branch - CSE\n",
    "#### Day 13 Task -\n",
    "- Create arrays with all the data types available in numpy"
   ]
  },
  {
   "cell_type": "markdown",
   "id": "6afafdee",
   "metadata": {},
   "source": [
    "- Integer"
   ]
  },
  {
   "cell_type": "code",
   "execution_count": 1,
   "id": "c32b0912",
   "metadata": {},
   "outputs": [
    {
     "name": "stdout",
     "output_type": "stream",
     "text": [
      "[1 2 3 4]\n",
      "int32\n"
     ]
    }
   ],
   "source": [
    "import numpy as np\n",
    "a = np.array([1, 2, 3, 4], dtype = 'int_')\n",
    "print(a)\n",
    "print(a.dtype)"
   ]
  },
  {
   "cell_type": "markdown",
   "id": "94ac951d",
   "metadata": {},
   "source": [
    "- Boolean"
   ]
  },
  {
   "cell_type": "code",
   "execution_count": 2,
   "id": "9e04a366",
   "metadata": {},
   "outputs": [
    {
     "name": "stdout",
     "output_type": "stream",
     "text": [
      "[ True False False  True]\n",
      "bool\n"
     ]
    }
   ],
   "source": [
    "a = np.array([True, False, False, True], dtype = 'bool_')\n",
    "print(a)\n",
    "print(a.dtype)"
   ]
  },
  {
   "cell_type": "markdown",
   "id": "04d7f3a9",
   "metadata": {},
   "source": [
    "- Float"
   ]
  },
  {
   "cell_type": "code",
   "execution_count": 3,
   "id": "46859cca",
   "metadata": {},
   "outputs": [
    {
     "name": "stdout",
     "output_type": "stream",
     "text": [
      "[1.6 2.9 3.3 4.6]\n",
      "float64\n"
     ]
    }
   ],
   "source": [
    "a = np.array([1.6, 2.9, 3.3, 4.6], dtype = 'float_')\n",
    "print(a)\n",
    "print(a.dtype)"
   ]
  },
  {
   "cell_type": "markdown",
   "id": "d39bdf58",
   "metadata": {},
   "source": [
    "- Complex"
   ]
  },
  {
   "cell_type": "code",
   "execution_count": 4,
   "id": "45c61cab",
   "metadata": {},
   "outputs": [
    {
     "name": "stdout",
     "output_type": "stream",
     "text": [
      "[1.+3.j  2.+4.j  6.+8.7j 8.+3.4j]\n",
      "complex128\n"
     ]
    }
   ],
   "source": [
    "a = np.array([1+3j, 2+4j, 6+8.7j, 8+3.4j], dtype = 'complex_')\n",
    "print(a)\n",
    "print(a.dtype)"
   ]
  },
  {
   "cell_type": "markdown",
   "id": "25237ce1",
   "metadata": {},
   "source": [
    "- String"
   ]
  },
  {
   "cell_type": "code",
   "execution_count": 5,
   "id": "e67ac422",
   "metadata": {},
   "outputs": [
    {
     "name": "stdout",
     "output_type": "stream",
     "text": [
      "[b'a' b'b' b'c' b'd']\n",
      "|S1\n"
     ]
    }
   ],
   "source": [
    "a = np.array(['a', 'b', 'c', 'd'], dtype = 'S')\n",
    "print(a)\n",
    "print(a.dtype)"
   ]
  },
  {
   "cell_type": "markdown",
   "id": "47cbd6e7",
   "metadata": {},
   "source": [
    "- Object"
   ]
  },
  {
   "cell_type": "code",
   "execution_count": 6,
   "id": "bf69090b",
   "metadata": {},
   "outputs": [
    {
     "name": "stdout",
     "output_type": "stream",
     "text": [
      "[[1 2]\n",
      " [3 4]\n",
      " [4.6 7.4]\n",
      " ['chandler' 'jake']]\n",
      "object\n"
     ]
    }
   ],
   "source": [
    "a = np.array([[1, 2], [3, 4], [4.6, 7.4], ['chandler', 'jake']], dtype = 'O')\n",
    "print(a)\n",
    "print(a.dtype)"
   ]
  },
  {
   "cell_type": "markdown",
   "id": "f8dd97da",
   "metadata": {},
   "source": [
    "- Unicode"
   ]
  },
  {
   "cell_type": "code",
   "execution_count": 7,
   "id": "0e5e22d5",
   "metadata": {},
   "outputs": [
    {
     "name": "stdout",
     "output_type": "stream",
     "text": [
      "['1' '2' '3' '4']\n",
      "<U1\n"
     ]
    }
   ],
   "source": [
    "a = np.array([1, 2, 3, 4], dtype = 'U')\n",
    "print(a)\n",
    "print(a.dtype)"
   ]
  },
  {
   "cell_type": "markdown",
   "id": "99d252ee",
   "metadata": {},
   "source": [
    "- Unsigned Integer"
   ]
  },
  {
   "cell_type": "code",
   "execution_count": 8,
   "id": "4b534176",
   "metadata": {},
   "outputs": [
    {
     "name": "stdout",
     "output_type": "stream",
     "text": [
      "[1 2 3 4]\n",
      "uint8\n"
     ]
    }
   ],
   "source": [
    "a = np.array([1, 2, 3, 4], dtype = 'uint8')\n",
    "print(a)\n",
    "print(a.dtype)"
   ]
  }
 ],
 "metadata": {
  "kernelspec": {
   "display_name": "Python 3",
   "language": "python",
   "name": "python3"
  },
  "language_info": {
   "codemirror_mode": {
    "name": "ipython",
    "version": 3
   },
   "file_extension": ".py",
   "mimetype": "text/x-python",
   "name": "python",
   "nbconvert_exporter": "python",
   "pygments_lexer": "ipython3",
   "version": "3.8.8"
  }
 },
 "nbformat": 4,
 "nbformat_minor": 5
}
