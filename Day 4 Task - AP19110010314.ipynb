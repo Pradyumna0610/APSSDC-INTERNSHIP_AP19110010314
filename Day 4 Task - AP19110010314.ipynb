{
 "cells": [
  {
   "cell_type": "markdown",
   "id": "c216d73a",
   "metadata": {},
   "source": [
    "### Name: Challa Venkata Pradyumna\n",
    "### Roll No. : AP19110010314\n",
    "### Day 4 Task:"
   ]
  },
  {
   "cell_type": "code",
   "execution_count": 1,
   "id": "b7c2fefd",
   "metadata": {},
   "outputs": [
    {
     "name": "stdout",
     "output_type": "stream",
     "text": [
      "Enter a string: Challa\n",
      "a l\n"
     ]
    }
   ],
   "source": [
    "a = input(\"Enter a string: \")\n",
    "if len(a)%2!=0:\n",
    "    print(a[len(a)//2])\n",
    "else:\n",
    "    print(a[(len(a)//2)-1],a[len(a)//2])"
   ]
  },
  {
   "cell_type": "code",
   "execution_count": 2,
   "id": "f8d5608d",
   "metadata": {},
   "outputs": [
    {
     "name": "stdout",
     "output_type": "stream",
     "text": [
      "Enter a string: Pradyumna\n",
      "y\n"
     ]
    }
   ],
   "source": [
    "a = input(\"Enter a string: \")\n",
    "if len(a)%2!=0:\n",
    "    print(a[len(a)//2])\n",
    "else:\n",
    "    print(a[(len(a)//2)-1],a[len(a)//2])"
   ]
  }
 ],
 "metadata": {
  "kernelspec": {
   "display_name": "Python 3",
   "language": "python",
   "name": "python3"
  },
  "language_info": {
   "codemirror_mode": {
    "name": "ipython",
    "version": 3
   },
   "file_extension": ".py",
   "mimetype": "text/x-python",
   "name": "python",
   "nbconvert_exporter": "python",
   "pygments_lexer": "ipython3",
   "version": "3.8.8"
  }
 },
 "nbformat": 4,
 "nbformat_minor": 5
}
