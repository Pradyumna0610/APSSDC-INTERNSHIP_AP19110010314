{
 "cells": [
  {
   "cell_type": "markdown",
   "id": "3e34f986",
   "metadata": {},
   "source": [
    "#### Name - Challa Venkata Pradyumna\n",
    "#### Id Number - AP19110010314\n",
    "#### Branch - CSE\n",
    "#### Day 9 Tasks -\n",
    "        - write a program in module\n",
    "        - ask the user to enter the data\n",
    "        - check the data if it's camelcase print Like (Thumbsup)emoji\n",
    "        - else convert the data into camelcase then speakout Successfully converted your data into camel case"
   ]
  },
  {
   "cell_type": "code",
   "execution_count": 1,
   "id": "0dd7f6b9",
   "metadata": {},
   "outputs": [
    {
     "name": "stdout",
     "output_type": "stream",
     "text": [
      "Enter a sentence :pradyumna challa\n"
     ]
    },
    {
     "data": {
      "text/plain": [
       "('The sentence in camel case:', 'Pradyumna Challa')"
      ]
     },
     "execution_count": 1,
     "metadata": {},
     "output_type": "execute_result"
    }
   ],
   "source": [
    "import pyttsx3\n",
    "import emoji\n",
    "import camelcase\n",
    "def sentence():\n",
    "    s = input(\"Enter a sentence :\")\n",
    "    if (s == camelcase.CamelCase().hump(s)):\n",
    "        return emoji.emojize(\"The sentence is in camel case :thumbsup:\", use_aliases = True)\n",
    "    else:\n",
    "        spk = pyttsx3.init()\n",
    "        spk.say(\"The sentence is not in camel case\")\n",
    "        spk.runAndWait()\n",
    "        return \"The sentence in camel case:\", camelcase.CamelCase().hump(s)\n",
    "sentence()"
   ]
  },
  {
   "cell_type": "code",
   "execution_count": 2,
   "id": "1252efff",
   "metadata": {},
   "outputs": [
    {
     "name": "stdout",
     "output_type": "stream",
     "text": [
      "Enter a sentence :Pradyumna Challa\n"
     ]
    },
    {
     "data": {
      "text/plain": [
       "'The sentence is in camel case 👍'"
      ]
     },
     "execution_count": 2,
     "metadata": {},
     "output_type": "execute_result"
    }
   ],
   "source": [
    "import pyttsx3\n",
    "import emoji\n",
    "import camelcase\n",
    "def sentence():\n",
    "    s = input(\"Enter a sentence :\")\n",
    "    if (s == camelcase.CamelCase().hump(s)):\n",
    "        return emoji.emojize(\"The sentence is in camel case :thumbsup:\", use_aliases = True)\n",
    "    else:\n",
    "        spk = pyttsx3.init()\n",
    "        spk.say(\"The sentence is not in camel case\")\n",
    "        spk.runAndWait()\n",
    "        return \"The sentence in camel case:\", camelcase.CamelCase().hump(s)\n",
    "sentence()"
   ]
  }
 ],
 "metadata": {
  "kernelspec": {
   "display_name": "Python 3",
   "language": "python",
   "name": "python3"
  },
  "language_info": {
   "codemirror_mode": {
    "name": "ipython",
    "version": 3
   },
   "file_extension": ".py",
   "mimetype": "text/x-python",
   "name": "python",
   "nbconvert_exporter": "python",
   "pygments_lexer": "ipython3",
   "version": "3.8.8"
  }
 },
 "nbformat": 4,
 "nbformat_minor": 5
}
