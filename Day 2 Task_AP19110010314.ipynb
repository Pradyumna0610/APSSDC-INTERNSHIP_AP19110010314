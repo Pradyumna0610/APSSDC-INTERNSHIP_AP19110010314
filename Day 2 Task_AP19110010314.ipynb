{
 "cells": [
  {
   "cell_type": "markdown",
   "id": "13ed94ed",
   "metadata": {},
   "source": [
    "### Name: Challa Venkata Pradyumna\n",
    "### ID No. : AP19110010314\n",
    "#### Day 2 Tasks\n",
    "\n",
    "#### Q1) Write a program to check wheather the user eligible for vote or not."
   ]
  },
  {
   "cell_type": "code",
   "execution_count": 2,
   "id": "ac61e8a1",
   "metadata": {},
   "outputs": [
    {
     "name": "stdout",
     "output_type": "stream",
     "text": [
      "enter age: 19\n",
      "Eligible For Voting!\n"
     ]
    }
   ],
   "source": [
    "age = int(input(\"enter age: \"))\n",
    "if age >= 18:\n",
    "    print(\"Eligible For Voting!\")\n",
    "else:\n",
    "    print(\"Not Eligible For Voting!\")\n"
   ]
  },
  {
   "cell_type": "markdown",
   "id": "0768aeea",
   "metadata": {},
   "source": [
    "#### Q2) Check the given number is positive or negative."
   ]
  },
  {
   "cell_type": "code",
   "execution_count": 3,
   "id": "19dce6d9",
   "metadata": {},
   "outputs": [
    {
     "name": "stdout",
     "output_type": "stream",
     "text": [
      "Enter number: 24\n",
      "Number is positive\n"
     ]
    }
   ],
   "source": [
    "n=int(input(\"Enter number: \"))\n",
    "if n>0:\n",
    "    print(\"Number is positive\")\n",
    "else:\n",
    "    print(\"Number is negative\")"
   ]
  },
  {
   "cell_type": "markdown",
   "id": "0bcd19f8",
   "metadata": {},
   "source": [
    "#### Q3) Check the given number is even or odd if it's even check which is divisible by 4 or not."
   ]
  },
  {
   "cell_type": "code",
   "execution_count": 4,
   "id": "5e4644ca",
   "metadata": {},
   "outputs": [
    {
     "name": "stdout",
     "output_type": "stream",
     "text": [
      "Enter any integer: 16\n",
      "The Number is an even number\n",
      "The Given Number - 16 is divisible by 4\n"
     ]
    }
   ],
   "source": [
    "number = int(input(\"Enter any integer: \"))\n",
    "if number%2==0:\n",
    "    print(\"The Number is an even number\")\n",
    "    if number%4==0:\n",
    "        print(\"The Given Number - {} is divisible by 4\".format(number))\n",
    "    else:\n",
    "        print(\"The Given Number - {} is not divisible by 4\".format(number))\n",
    "else:\n",
    "    print(\"The Number is an odd number\")\n",
    "    "
   ]
  },
  {
   "cell_type": "markdown",
   "id": "3e4b7fc1",
   "metadata": {},
   "source": [
    "#### Q4) Write a program to print student grade based on percentage like Distinction, pass or fail."
   ]
  },
  {
   "cell_type": "code",
   "execution_count": 5,
   "id": "54cb58f4",
   "metadata": {},
   "outputs": [
    {
     "name": "stdout",
     "output_type": "stream",
     "text": [
      " Please enter Math score: 90\n",
      " Please enter Computer Marks: 90\n",
      " Please enter Physics Marks: 90\n",
      "Total Marks = 270.00\n",
      "Marks Percentage = 90.00\n",
      "Distinction\n"
     ]
    }
   ],
   "source": [
    "math = float(input(\" Please enter Math score: \"))\n",
    "computers = float(input(\" Please enter Computer Marks: \"))\n",
    "physics = float(input(\" Please enter Physics Marks: \"))\n",
    "\n",
    "total = math + computers + physics\n",
    "percentage = (total / 300) * 100\n",
    "print(\"Total Marks = %.2f\"  %total)\n",
    "print(\"Marks Percentage = %.2f\"  %percentage)\n",
    "\n",
    "if(percentage >= 90):\n",
    "       print(\"Distinction\")\n",
    "elif(percentage >= 40):\n",
    "       print(\"Pass\")\n",
    "else:\n",
    "       print(\"Fail\")"
   ]
  },
  {
   "cell_type": "markdown",
   "id": "6b633b24",
   "metadata": {},
   "source": [
    "####  Q5) Check the given year is Leap or not."
   ]
  },
  {
   "cell_type": "code",
   "execution_count": 6,
   "id": "9edd5a0c",
   "metadata": {},
   "outputs": [
    {
     "name": "stdout",
     "output_type": "stream",
     "text": [
      "Enter a year: 2000\n",
      "2000 is a leap year\n"
     ]
    }
   ],
   "source": [
    "year = int(input(\"Enter a year: \"))  \n",
    "if (year % 4) == 0:\n",
    "    if (year % 100) == 0:\n",
    "        if (year % 400) == 0:\n",
    "            print(\"{0} is a leap year\".format(year))  \n",
    "        else:  \n",
    "            print(\"{0} is not a leap year\".format(year))  \n",
    "    else:  \n",
    "        print(\"{0} is a leap year\".format(year))  \n",
    "else:  \n",
    "      print(\"{0} is not a leap year\".format(year))"
   ]
  }
 ],
 "metadata": {
  "kernelspec": {
   "display_name": "Python 3",
   "language": "python",
   "name": "python3"
  },
  "language_info": {
   "codemirror_mode": {
    "name": "ipython",
    "version": 3
   },
   "file_extension": ".py",
   "mimetype": "text/x-python",
   "name": "python",
   "nbconvert_exporter": "python",
   "pygments_lexer": "ipython3",
   "version": "3.8.8"
  }
 },
 "nbformat": 4,
 "nbformat_minor": 5
}
