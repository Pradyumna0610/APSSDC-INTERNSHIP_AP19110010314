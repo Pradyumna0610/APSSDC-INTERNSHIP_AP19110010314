{
 "cells": [
  {
   "cell_type": "markdown",
   "id": "c9bcf298",
   "metadata": {},
   "source": [
    "#### Name - Challa Venkata Pradyumna\n",
    "#### Id Number - AP19110010314\n",
    "#### Branch - CSE\n",
    "#### Day 10 Task -\n",
    "- Generate a 3 digit OTP from 2 different Classes Mail class and Phone class return 6 digit OTP from both Base classes"
   ]
  },
  {
   "cell_type": "code",
   "execution_count": 2,
   "id": "3dfceb1b",
   "metadata": {},
   "outputs": [
    {
     "name": "stdout",
     "output_type": "stream",
     "text": [
      "OTP generation in the Mail class\n",
      "OTP generation in the Phone class\n",
      "OTP generation from both classes\n",
      "600066\n"
     ]
    }
   ],
   "source": [
    "import random\n",
    "class Mail():\n",
    "    s1 = \"\"\n",
    "    def __init__(self):\n",
    "        print(\"OTP generation in the Mail class\")\n",
    "    def otp_1(self):\n",
    "        for i in range(3):\n",
    "            self.s1 = self.s1 + str(random.randint(0, 9))\n",
    "        return self.s1\n",
    "class Phone():\n",
    "    s2 = \"\"\n",
    "    def __init__(self):\n",
    "        print(\"OTP generation in the Phone class\")\n",
    "    def otp_2(self):\n",
    "        for i in range(3):\n",
    "            self.s2 = self.s2 + str(random.randint(0, 9))\n",
    "        return self.s2\n",
    "class Otp(Mail, Phone):\n",
    "    s = \"\"\n",
    "    def __init__(self):\n",
    "        Mail.__init__(self)\n",
    "        Phone.__init__(self)\n",
    "        print(\"OTP generation from both classes\")\n",
    "    def otp(self):\n",
    "        self.s = Mail.otp_1(self) + Phone.otp_2(self)\n",
    "        return self.s\n",
    "obj = Otp()\n",
    "print(obj.otp())"
   ]
  },
  {
   "cell_type": "code",
   "execution_count": null,
   "id": "95b76256",
   "metadata": {},
   "outputs": [],
   "source": []
  }
 ],
 "metadata": {
  "kernelspec": {
   "display_name": "Python 3",
   "language": "python",
   "name": "python3"
  },
  "language_info": {
   "codemirror_mode": {
    "name": "ipython",
    "version": 3
   },
   "file_extension": ".py",
   "mimetype": "text/x-python",
   "name": "python",
   "nbconvert_exporter": "python",
   "pygments_lexer": "ipython3",
   "version": "3.8.8"
  }
 },
 "nbformat": 4,
 "nbformat_minor": 5
}
