{
 "cells": [
  {
   "cell_type": "markdown",
   "id": "f52724f5",
   "metadata": {},
   "source": [
    "#### Name - Challa Venkata Pradyumna\n",
    "#### Id Number - AP19110010314\n",
    "#### Branch - CSE\n",
    "#### Day 11 Task -\n",
    "- Write a program for getting the last five lines from the file"
   ]
  },
  {
   "cell_type": "code",
   "execution_count": 1,
   "id": "60196e76",
   "metadata": {},
   "outputs": [],
   "source": [
    "f = open('file1.txt', 'w')\n",
    "f.write(\"line1 \\nline2 \\nline3 \\nline4 \\nline5 \\nline6 \\nline7 \\nline8 \\nline9 \\nline10\")\n",
    "f.close()"
   ]
  },
  {
   "cell_type": "code",
   "execution_count": 4,
   "id": "2eb383bf",
   "metadata": {},
   "outputs": [
    {
     "name": "stdout",
     "output_type": "stream",
     "text": [
      "Enter the no. of lines to read 5\n",
      "line6 \n",
      "\n",
      "line7 \n",
      "\n",
      "line8 \n",
      "\n",
      "line9 \n",
      "\n",
      "line10\n"
     ]
    }
   ],
   "source": [
    "f = open('file1.txt', 'r')\n",
    "n = int(input(\"Enter the no. of lines to read \"))\n",
    "for i in f.readlines()[-n:]:\n",
    "    print(i)"
   ]
  },
  {
   "cell_type": "markdown",
   "id": "e8780e50",
   "metadata": {},
   "source": [
    "- Task 2 - Create a function for appending data into a file"
   ]
  },
  {
   "cell_type": "code",
   "execution_count": 5,
   "id": "30d6229b",
   "metadata": {},
   "outputs": [
    {
     "name": "stdout",
     "output_type": "stream",
     "text": [
      "Enter name of the file file1.txt\n",
      "Enter data to append to the file line 11\n",
      "line1 \n",
      "line2 \n",
      "line3 \n",
      "line4 \n",
      "line5 \n",
      "line6 \n",
      "line7 \n",
      "line8 \n",
      "line9 \n",
      "line10\n",
      "line 11\n"
     ]
    }
   ],
   "source": [
    "def append_data(name, data):\n",
    "    with open(name, 'a+') as f:\n",
    "        f.write(\"\\n\" + data)\n",
    "        f.close()\n",
    "    with open(name, 'r') as f:\n",
    "        print(f.read())\n",
    "        \n",
    "name = input(\"Enter name of the file \")\n",
    "data = input(\"Enter data to append to the file \")\n",
    "append_data(name, data)"
   ]
  },
  {
   "cell_type": "markdown",
   "id": "3fbe14d7",
   "metadata": {},
   "source": [
    "- Task 3 - Create a program for updating a word in the file"
   ]
  },
  {
   "cell_type": "code",
   "execution_count": 7,
   "id": "119a1289",
   "metadata": {},
   "outputs": [
    {
     "name": "stdout",
     "output_type": "stream",
     "text": [
      "Enter data to be replaced line\n",
      "Enter data to replace existing one program\n",
      "Enter the name of file file1.txt\n"
     ]
    }
   ],
   "source": [
    "import re\n",
    "data1 = input('Enter data to be replaced ')\n",
    "data2 = input('Enter data to replace existing one ')\n",
    "name = input(\"Enter the name of file \")\n",
    "with open(name, 'r+') as f:\n",
    "    data = f.read()\n",
    "    data = re.sub(data1, data2, data)\n",
    "    f.seek(0)\n",
    "    f.write(data)\n",
    "    f.close()"
   ]
  },
  {
   "cell_type": "code",
   "execution_count": 8,
   "id": "de96f29d",
   "metadata": {},
   "outputs": [
    {
     "name": "stdout",
     "output_type": "stream",
     "text": [
      "program1 \n",
      "program2 \n",
      "program3 \n",
      "program4 \n",
      "program5 \n",
      "program6 \n",
      "program7 \n",
      "program8 \n",
      "program9 \n",
      "program10\n",
      "program 11\n"
     ]
    }
   ],
   "source": [
    "f = open('file1.txt', 'r')\n",
    "print(f.read())"
   ]
  }
 ],
 "metadata": {
  "kernelspec": {
   "display_name": "Python 3",
   "language": "python",
   "name": "python3"
  },
  "language_info": {
   "codemirror_mode": {
    "name": "ipython",
    "version": 3
   },
   "file_extension": ".py",
   "mimetype": "text/x-python",
   "name": "python",
   "nbconvert_exporter": "python",
   "pygments_lexer": "ipython3",
   "version": "3.8.8"
  }
 },
 "nbformat": 4,
 "nbformat_minor": 5
}
