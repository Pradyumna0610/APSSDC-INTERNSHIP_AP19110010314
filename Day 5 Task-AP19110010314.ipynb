{
 "cells": [
  {
   "cell_type": "markdown",
   "id": "4b19e637",
   "metadata": {},
   "source": [
    "#### Name - Challa Venkata Pradyumna\n",
    "#### Id Number - AP19110010314\n",
    "#### Branch - CSE\n",
    "#### Day 5 Tasks:-\n",
    "#### Q1) Write a python function that takes two lists and returns True if they have atleast one common member"
   ]
  },
  {
   "cell_type": "code",
   "execution_count": 1,
   "id": "bac0c070",
   "metadata": {},
   "outputs": [
    {
     "name": "stdout",
     "output_type": "stream",
     "text": [
      "Enter Size of List 1 : 3\n",
      "Enter Size of List 2 : 3\n",
      "Enter elements of list 1: \n",
      "12\n",
      "24\n",
      "36\n",
      "Enter elements of list 2: \n",
      "24\n",
      "48\n",
      "56\n",
      "The required result is:  True\n"
     ]
    }
   ],
   "source": [
    "l1 = []\n",
    "l2 = []\n",
    "n1 = int(input(\"Enter Size of List 1 : \"))\n",
    "n2 = int(input(\"Enter Size of List 2 : \"))\n",
    "print(\"Enter elements of list 1: \")\n",
    "for i in range(n1):\n",
    "    item1 = int(input())\n",
    "    l1.append(item1)\n",
    "print(\"Enter elements of list 2: \")\n",
    "for j in range(n2):\n",
    "    item2 = int(input())\n",
    "    l2.append(item2)\n",
    "def common(lists1, lists2):\n",
    "    flag = False\n",
    "    for i in lists1:\n",
    "        if (i in lists2):\n",
    "            flag = True\n",
    "        else:\n",
    "            pass\n",
    "    return flag\n",
    "result = common(l1, l2)\n",
    "print(\"The required result is: \",result)"
   ]
  },
  {
   "cell_type": "code",
   "execution_count": 2,
   "id": "271ffd9e",
   "metadata": {},
   "outputs": [
    {
     "name": "stdout",
     "output_type": "stream",
     "text": [
      "Enter Size of List 1 : 3\n",
      "Enter Size of List 2 : 3\n",
      "Enter elements of list 1: \n",
      "12\n",
      "24\n",
      "36\n",
      "Enter elements of list 2: \n",
      "34\n",
      "45\n",
      "56\n",
      "The required result is:  False\n"
     ]
    }
   ],
   "source": [
    "l1 = []\n",
    "l2 = []\n",
    "n1 = int(input(\"Enter Size of List 1 : \"))\n",
    "n2 = int(input(\"Enter Size of List 2 : \"))\n",
    "print(\"Enter elements of list 1: \")\n",
    "for i in range(n1):\n",
    "    item1 = int(input())\n",
    "    l1.append(item1)\n",
    "print(\"Enter elements of list 2: \")\n",
    "for j in range(n2):\n",
    "    item2 = int(input())\n",
    "    l2.append(item2)\n",
    "def common(lists1, lists2):\n",
    "    flag = False\n",
    "    for i in lists1:\n",
    "        if (i in lists2):\n",
    "            flag = True\n",
    "        else:\n",
    "            pass\n",
    "    return flag\n",
    "result = common(l1, l2)\n",
    "print(\"The required result is: \",result)"
   ]
  }
 ],
 "metadata": {
  "kernelspec": {
   "display_name": "Python 3",
   "language": "python",
   "name": "python3"
  },
  "language_info": {
   "codemirror_mode": {
    "name": "ipython",
    "version": 3
   },
   "file_extension": ".py",
   "mimetype": "text/x-python",
   "name": "python",
   "nbconvert_exporter": "python",
   "pygments_lexer": "ipython3",
   "version": "3.8.8"
  }
 },
 "nbformat": 4,
 "nbformat_minor": 5
}
