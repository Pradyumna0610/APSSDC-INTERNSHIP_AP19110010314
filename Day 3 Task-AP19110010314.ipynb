{
 "cells": [
  {
   "cell_type": "markdown",
   "id": "3b83baa1",
   "metadata": {},
   "source": [
    "### Name: Challa Venkata Pradyumna \n",
    "### Roll No. AP19110010314\n",
    "\n",
    "### Day 3 Task\n",
    "\n",
    "#### Q1 Take last 3 values of roll number(AP19110010XXX)\n",
    "#### .If value is startswith \"01\" --> 'Cse Dept'\n",
    "#### .elif value is startwith \"11\" --> 'It Dept'\n",
    "#### .elif values is startswith \"21\" --> 'ECE dept'\n",
    "#### .else not an SRM student"
   ]
  },
  {
   "cell_type": "code",
   "execution_count": 1,
   "id": "1f998830",
   "metadata": {},
   "outputs": [
    {
     "name": "stdout",
     "output_type": "stream",
     "text": [
      "Enter roll no: AP19110010021\n",
      "Non SRM Student\n"
     ]
    }
   ],
   "source": [
    "str1 = str(input(\"Enter roll no: \"))\n",
    "if str1[-3:].startswith(\"01\"):\n",
    "    print(\"Student of CSE Department\")\n",
    "elif str1[-3:].startswith(\"11\"):\n",
    "    print(\"Student of IT Department\")\n",
    "elif str1[-3:].startswith(\"21\"):\n",
    "    print(\"Student of ECE Department\")\n",
    "else:\n",
    "    print(\"Non SRM Student\")"
   ]
  },
  {
   "cell_type": "markdown",
   "id": "6c1fa66f",
   "metadata": {},
   "source": [
    "#### Q2. Find all leap years between 1800 to 2020"
   ]
  },
  {
   "cell_type": "code",
   "execution_count": 2,
   "id": "2d84c5bf",
   "metadata": {},
   "outputs": [
    {
     "name": "stdout",
     "output_type": "stream",
     "text": [
      "1804\t1808\t1812\t1816\t1820\t1824\t1828\t1832\t1836\t1840\t1844\t1848\t1852\t1856\t1860\t1864\t1868\t1872\t1876\t1880\t1884\t1888\t1892\t1896\t1904\t1908\t1912\t1916\t1920\t1924\t1928\t1932\t1936\t1940\t1944\t1948\t1952\t1956\t1960\t1964\t1968\t1972\t1976\t1980\t1984\t1988\t1992\t1996\t2000\t2004\t2008\t2012\t2016\t2020\t"
     ]
    }
   ],
   "source": [
    "for Year in range(1800,2021):\n",
    "    if Year % 4 == 0 and Year % 100 != 0:\n",
    "        print(Year, end =\"\\t\")\n",
    "    elif Year % 400 ==0:\n",
    "        print(Year, end=\"\\t\")\n",
    "    else:\n",
    "        continue"
   ]
  }
 ],
 "metadata": {
  "kernelspec": {
   "display_name": "Python 3",
   "language": "python",
   "name": "python3"
  },
  "language_info": {
   "codemirror_mode": {
    "name": "ipython",
    "version": 3
   },
   "file_extension": ".py",
   "mimetype": "text/x-python",
   "name": "python",
   "nbconvert_exporter": "python",
   "pygments_lexer": "ipython3",
   "version": "3.8.8"
  }
 },
 "nbformat": 4,
 "nbformat_minor": 5
}
